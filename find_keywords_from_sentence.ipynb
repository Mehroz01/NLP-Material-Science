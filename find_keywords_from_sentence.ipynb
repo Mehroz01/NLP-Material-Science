{
 "cells": [
  {
   "cell_type": "code",
   "execution_count": 9,
   "metadata": {},
   "outputs": [],
   "source": [
    "from __future__ import unicode_literals, print_function\n",
    "\n",
    "import pandas as pd\n",
    "import re\n",
    "import os.path\n",
    "import spacy\n",
    "from os import listdir\n",
    "import pdfminer\n",
    "from pdfminer.pdfinterp import PDFResourceManager, PDFPageInterpreter\n",
    "from pdfminer.converter import TextConverter\n",
    "from pdfminer.layout import LAParams\n",
    "from pdfminer.pdfpage import PDFPage\n",
    "from io import BytesIO\n",
    "from spacy.lang.en import English\n",
    "\n"
   ]
  },
  {
   "cell_type": "code",
   "execution_count": 10,
   "metadata": {},
   "outputs": [],
   "source": [
    "\n",
    "def convert_pdf_to_txt(path):\n",
    "    rsrcmgr = PDFResourceManager()\n",
    "    retstr = BytesIO()\n",
    "    codec = 'utf-8'\n",
    "    laparams = LAParams()\n",
    "    device = TextConverter(rsrcmgr, retstr,  laparams=laparams)#codec=codec,\n",
    "    fp = open(path, 'rb')\n",
    "    interpreter = PDFPageInterpreter(rsrcmgr, device)\n",
    "    password = \"\"\n",
    "    maxpages = 0\n",
    "    caching = True\n",
    "    pagenos=set()\n",
    "\n",
    "    for page in PDFPage.get_pages(fp, pagenos, maxpages=maxpages, password=password,caching=caching, check_extractable=True):\n",
    "        interpreter.process_page(page)\n",
    "\n",
    "    text = retstr.getvalue()\n",
    "\n",
    "    fp.close()\n",
    "    device.close()\n",
    "    retstr.close()\n",
    "    return text.decode(\"utf-8\")"
   ]
  },
  {
   "cell_type": "code",
   "execution_count": 11,
   "metadata": {},
   "outputs": [],
   "source": [
    "\n",
    "def preprocess(path):\n",
    "    \n",
    "\n",
    "                \n",
    "                \n",
    "    nlp = spacy.load(\"en\")\n",
    "    sentencizer = nlp.create_pipe(\"sentencizer\")\n",
    "    nlp.add_pipe(sentencizer)\n",
    "    pdf_files=listdir(path)\n",
    "    compositions_list=[]\n",
    "\n",
    "                \n",
    "    for pdf_file_index in range(0,len(pdf_files)):\n",
    "        pdf_file_path=path+pdf_files[pdf_file_index]\n",
    "        print('\\n Address :',pdf_file_path)\n",
    "        \n",
    "        text_file=convert_pdf_to_txt(pdf_file_path)\n",
    "        doc = nlp(text_file)\n",
    "        \n",
    "        for sent in doc.sents:\n",
    "            if re.search('Keyword',str(sent)):\n",
    "                print('\\n start sent:')\n",
    "                print(sent)\n",
    "                print('\\n end sent')\n",
    "    return                     \n"
   ]
  },
  {
   "cell_type": "code",
   "execution_count": 13,
   "metadata": {},
   "outputs": [],
   "source": [
    "path='/home/mehroz/pdf_filed_2/Untitled_Folder/Aluminum paper/'\n",
    "\n",
    "#compositions=preprocess(path)"
   ]
  },
  {
   "cell_type": "code",
   "execution_count": null,
   "metadata": {},
   "outputs": [],
   "source": []
  }
 ],
 "metadata": {
  "kernelspec": {
   "display_name": "Python 3",
   "language": "python",
   "name": "python3"
  },
  "language_info": {
   "codemirror_mode": {
    "name": "ipython",
    "version": 2
   },
   "file_extension": ".py",
   "mimetype": "text/x-python",
   "name": "python",
   "nbconvert_exporter": "python",
   "pygments_lexer": "ipython2",
   "version": "2.7.15"
  }
 },
 "nbformat": 4,
 "nbformat_minor": 2
}
